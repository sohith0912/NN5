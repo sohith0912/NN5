{
  "nbformat": 4,
  "nbformat_minor": 0,
  "metadata": {
    "colab": {
      "provenance": []
    },
    "kernelspec": {
      "name": "python3",
      "display_name": "Python 3"
    },
    "language_info": {
      "name": "python"
    }
  },
  "cells": [
    {
      "cell_type": "code",
      "source": [
        "import pandas as pd\n",
        "from sklearn.svm import SVC\n",
        "from sklearn.naive_bayes import GaussianNB\n",
        "from sklearn.model_selection import train_test_split\n",
        "import time\n",
        "import warnings\n",
        "warnings.filterwarnings(\"ignore\")\n",
        "from sklearn import metrics\n",
        "# read the data\n",
        "data = pd.read_csv('/content/glass.csv')\n",
        "print(data.shape)\n",
        "X_train, X_test = train_test_split(\n",
        "    data, test_size=0.2, random_state=int(time.time()))\n",
        "# features columns\n",
        "features = [\n",
        "    \"RI\", \"Na\", \"Mg\", \"Al\", \"Si\", \"K\", \"Ca\", \"Ba\", \"Fe\"\n",
        "]\n",
        "# Naïve Bayes Classifier\n",
        "gauss = GaussianNB()\n",
        "# train the classifier\n",
        "gauss.fit(\n",
        "    X_train[features].values,\n",
        "    X_train[\"Type\"]\n",
        ")\n",
        "# make predictions\n",
        "y_pred = gauss.predict(X_test[features])\n",
        "print(\"Naïve Bayes\\nTotal number of points: {}\\nMislabeled points : {}\\nAccuracy {:05.2f}%\"\n",
        "      .format(\n",
        "          X_test.shape[0],\n",
        "          (X_test[\"Type\"] != y_pred).sum(),\n",
        "          100 * (1 - (X_test[\"Type\"] != y_pred).sum() / X_test.shape[0])\n",
        "      ))\n",
        "print(\"\\n\")\n",
        "# Naïve Bayes Classifier performance\n",
        "print(metrics.classification_report(X_test[\"Type\"], y_pred))\n",
        "# Linear Support Vector Classification\n",
        "svc_linear = SVC(kernel='linear')\n",
        "# train linear SVM model\n",
        "svc_linear.fit(\n",
        "    X_train[features].values,\n",
        "    X_train[\"Type\"]\n",
        ")\n",
        "Y_pred = svc_linear.predict(X_test[features])\n",
        "# Linear SVM Model performance\n",
        "acc_svc = round(svc_linear.score(\n",
        "    X_test[features].values, X_test[\"Type\"]) * 100, 2)\n",
        "print(\"Linear SVM accuracy is:\", acc_svc)\n",
        "# Support vector classifier (SVC) with the radial basis function kernel (RBF)\n",
        "svc_rbf = SVC(kernel='rbf')\n",
        "svc_rbf.fit(\n",
        "    X_train[features].values,\n",
        "    X_train[\"Type\"]\n",
        ")\n",
        "# model predictions\n",
        "Y_pred = svc_rbf.predict(X_test[features])\n",
        "# SVM RBF Model performance\n",
        "acc_svc = round(svc_rbf.score(\n",
        "    X_test[features].values, X_test[\"Type\"]) * 100, 2)\n",
        "print(\"SVM RBF model accuracy is:\", acc_svc)\n",
        "print(\"\\n\")\n",
        "print(metrics.classification_report(X_test[\"Type\"], Y_pred))"
      ],
      "metadata": {
        "colab": {
          "base_uri": "https://localhost:8080/"
        },
        "id": "SK_RqGEXGIFH",
        "outputId": "3e137b35-8566-4757-b332-c7d5177685af"
      },
      "execution_count": null,
      "outputs": [
        {
          "output_type": "stream",
          "name": "stdout",
          "text": [
            "(214, 10)\n",
            "Naïve Bayes\n",
            "Total number of points: 43\n",
            "Mislabeled points : 32\n",
            "Accuracy 25.58%\n",
            "\n",
            "\n",
            "              precision    recall  f1-score   support\n",
            "\n",
            "           1       0.33      0.07      0.11        15\n",
            "           2       0.00      0.00      0.00        13\n",
            "           3       0.15      0.80      0.26         5\n",
            "           5       0.00      0.00      0.00         2\n",
            "           6       0.50      1.00      0.67         1\n",
            "           7       0.71      0.71      0.71         7\n",
            "\n",
            "    accuracy                           0.26        43\n",
            "   macro avg       0.28      0.43      0.29        43\n",
            "weighted avg       0.26      0.26      0.20        43\n",
            "\n",
            "Linear SVM accuracy is: 48.84\n",
            "SVM RBF model accuracy is: 30.23\n",
            "\n",
            "\n",
            "              precision    recall  f1-score   support\n",
            "\n",
            "           1       0.00      0.00      0.00        15\n",
            "           2       0.30      1.00      0.46        13\n",
            "           3       0.00      0.00      0.00         5\n",
            "           5       0.00      0.00      0.00         2\n",
            "           6       0.00      0.00      0.00         1\n",
            "           7       0.00      0.00      0.00         7\n",
            "\n",
            "    accuracy                           0.30        43\n",
            "   macro avg       0.05      0.17      0.08        43\n",
            "weighted avg       0.09      0.30      0.14        43\n",
            "\n"
          ]
        }
      ]
    }
  ]
}